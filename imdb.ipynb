{
  "nbformat": 4,
  "nbformat_minor": 0,
  "metadata": {
    "colab": {
      "name": "imdb.ipynb",
      "provenance": [],
      "collapsed_sections": []
    },
    "kernelspec": {
      "display_name": "Python 3",
      "language": "python",
      "name": "python3"
    },
    "language_info": {
      "codemirror_mode": {
        "name": "ipython",
        "version": 3
      },
      "file_extension": ".py",
      "mimetype": "text/x-python",
      "name": "python",
      "nbconvert_exporter": "python",
      "pygments_lexer": "ipython3",
      "version": "3.8.2"
    }
  },
  "cells": [
    {
      "cell_type": "markdown",
      "metadata": {
        "id": "rNsTH04h6VX3",
        "colab_type": "text"
      },
      "source": [
        "# Importing Libraries and Dataset\n",
        "---"
      ]
    },
    {
      "cell_type": "code",
      "metadata": {
        "colab_type": "code",
        "id": "te5QDIkXe5Ed",
        "colab": {}
      },
      "source": [
        "import tensorflow as tf\n",
        "import numpy as np\n",
        "import matplotlib.pyplot as plt"
      ],
      "execution_count": 0,
      "outputs": []
    },
    {
      "cell_type": "code",
      "metadata": {
        "colab_type": "code",
        "id": "IMmAJCl9fB90",
        "colab": {}
      },
      "source": [
        "imdb = tf.keras.datasets.imdb"
      ],
      "execution_count": 0,
      "outputs": []
    },
    {
      "cell_type": "code",
      "metadata": {
        "colab_type": "code",
        "id": "a7x-ez6GfH1V",
        "outputId": "587f3b7d-c1d6-4478-bb71-2a5ccfcae321",
        "colab": {
          "base_uri": "https://localhost:8080/",
          "height": 51
        }
      },
      "source": [
        "(x_train, y_train), (x_test, y_test) = imdb.load_data(num_words=10000)\n",
        "data = np.concatenate((x_train, x_test), axis=0)\n",
        "targets = np.concatenate((y_train, y_test), axis=0)"
      ],
      "execution_count": 0,
      "outputs": [
        {
          "output_type": "stream",
          "text": [
            "Downloading data from https://storage.googleapis.com/tensorflow/tf-keras-datasets/imdb.npz\n",
            "17465344/17464789 [==============================] - 0s 0us/step\n"
          ],
          "name": "stdout"
        }
      ]
    },
    {
      "cell_type": "markdown",
      "metadata": {
        "id": "4Y5Xm4J66VYU",
        "colab_type": "text"
      },
      "source": [
        "# Data Analysis\n",
        "---"
      ]
    },
    {
      "cell_type": "code",
      "metadata": {
        "colab_type": "code",
        "id": "Ayn2MQQylTP8",
        "outputId": "4e819112-04df-4d37-e521-0483f5266fea",
        "colab": {
          "base_uri": "https://localhost:8080/",
          "height": 51
        }
      },
      "source": [
        "print(np.unique(targets))\n",
        "print(len(np.unique(np.hstack(data))))"
      ],
      "execution_count": 0,
      "outputs": [
        {
          "output_type": "stream",
          "text": [
            "[0 1]\n",
            "9998\n"
          ],
          "name": "stdout"
        }
      ]
    },
    {
      "cell_type": "code",
      "metadata": {
        "colab_type": "code",
        "id": "2N8l49SLlUOW",
        "outputId": "cbea93a7-161b-472d-ed23-524c1944d58a",
        "colab": {
          "base_uri": "https://localhost:8080/",
          "height": 71
        }
      },
      "source": [
        "print(\"Label\", targets[0])\n",
        "print(data[0])                    #This shows us a hashmap of numners each of which corresponds to some word stored in its dictionary"
      ],
      "execution_count": 0,
      "outputs": [
        {
          "output_type": "stream",
          "text": [
            "Label 1\n",
            "[1, 14, 22, 16, 43, 530, 973, 1622, 1385, 65, 458, 4468, 66, 3941, 4, 173, 36, 256, 5, 25, 100, 43, 838, 112, 50, 670, 2, 9, 35, 480, 284, 5, 150, 4, 172, 112, 167, 2, 336, 385, 39, 4, 172, 4536, 1111, 17, 546, 38, 13, 447, 4, 192, 50, 16, 6, 147, 2025, 19, 14, 22, 4, 1920, 4613, 469, 4, 22, 71, 87, 12, 16, 43, 530, 38, 76, 15, 13, 1247, 4, 22, 17, 515, 17, 12, 16, 626, 18, 2, 5, 62, 386, 12, 8, 316, 8, 106, 5, 4, 2223, 5244, 16, 480, 66, 3785, 33, 4, 130, 12, 16, 38, 619, 5, 25, 124, 51, 36, 135, 48, 25, 1415, 33, 6, 22, 12, 215, 28, 77, 52, 5, 14, 407, 16, 82, 2, 8, 4, 107, 117, 5952, 15, 256, 4, 2, 7, 3766, 5, 723, 36, 71, 43, 530, 476, 26, 400, 317, 46, 7, 4, 2, 1029, 13, 104, 88, 4, 381, 15, 297, 98, 32, 2071, 56, 26, 141, 6, 194, 7486, 18, 4, 226, 22, 21, 134, 476, 26, 480, 5, 144, 30, 5535, 18, 51, 36, 28, 224, 92, 25, 104, 4, 226, 65, 16, 38, 1334, 88, 12, 16, 283, 5, 16, 4472, 113, 103, 32, 15, 16, 5345, 19, 178, 32]\n"
          ],
          "name": "stdout"
        }
      ]
    },
    {
      "cell_type": "code",
      "metadata": {
        "colab_type": "code",
        "id": "GB81cN3YmRid",
        "outputId": "ea5d1512-edf4-4628-cab8-3bdd44ea79eb",
        "colab": {
          "base_uri": "https://localhost:8080/",
          "height": 68
        }
      },
      "source": [
        "index = imdb.get_word_index()\n",
        "print(len(index))\n",
        "reverse_index = dict([value, key] for (key, value) in index.items())"
      ],
      "execution_count": 0,
      "outputs": [
        {
          "output_type": "stream",
          "text": [
            "Downloading data from https://storage.googleapis.com/tensorflow/tf-keras-datasets/imdb_word_index.json\n",
            "1646592/1641221 [==============================] - 0s 0us/step\n",
            "88584\n"
          ],
          "name": "stdout"
        }
      ]
    },
    {
      "cell_type": "code",
      "metadata": {
        "colab_type": "code",
        "id": "m1HdggAFmRoh",
        "colab": {}
      },
      "source": [
        "print(reverse_index)\n",
        "print(data[0])"
      ],
      "execution_count": 0,
      "outputs": []
    },
    {
      "cell_type": "code",
      "metadata": {
        "colab_type": "code",
        "id": "1XwHI_t5mRuM",
        "colab": {}
      },
      "source": [
        "decode = []\n",
        "for i in data[0]:\n",
        "  decode.append(reverse_index.get(i-3 , \"#\"))"
      ],
      "execution_count": 0,
      "outputs": []
    },
    {
      "cell_type": "code",
      "metadata": {
        "colab_type": "code",
        "id": "LFFsypsvmR0F",
        "colab": {}
      },
      "source": [
        "print(decode)"
      ],
      "execution_count": 0,
      "outputs": []
    },
    {
      "cell_type": "code",
      "metadata": {
        "colab_type": "code",
        "id": "vLkOzrQvmR5_",
        "colab": {}
      },
      "source": [
        "print(\" \".join(decode))"
      ],
      "execution_count": 0,
      "outputs": []
    },
    {
      "cell_type": "markdown",
      "metadata": {
        "id": "wxk97UU46VZO",
        "colab_type": "text"
      },
      "source": [
        "# Data Preparation\n",
        "---"
      ]
    },
    {
      "cell_type": "code",
      "metadata": {
        "colab_type": "code",
        "id": "23D3GZEVs5uv",
        "colab": {}
      },
      "source": [
        "def vectrorise(sequence, dimension = 10000):\n",
        "  results = np.zeros((len(sequence), dimension))\n",
        "  for i, sequence in enumerate(sequence):\n",
        "    results[i, sequence] = 1\n",
        "  return results"
      ],
      "execution_count": 0,
      "outputs": []
    },
    {
      "cell_type": "code",
      "metadata": {
        "colab_type": "code",
        "id": "cErTmcCes6f2",
        "colab": {}
      },
      "source": [
        "data = vectrorise(data)\n",
        "targets = np.array(targets).astype(\"float32\")"
      ],
      "execution_count": 0,
      "outputs": []
    },
    {
      "cell_type": "code",
      "metadata": {
        "colab_type": "code",
        "id": "5eVK2Biqs65I",
        "colab": {}
      },
      "source": [
        "test_x = data[:10000]\n",
        "train_x = data[10000:]\n",
        "test_y = targets[:10000]\n",
        "train_y = targets[10000:]"
      ],
      "execution_count": 0,
      "outputs": []
    },
    {
      "cell_type": "code",
      "metadata": {
        "colab_type": "code",
        "id": "5KafN_yhs7Wz",
        "colab": {}
      },
      "source": [
        "# Neural Network "
      ],
      "execution_count": 0,
      "outputs": []
    },
    {
      "cell_type": "code",
      "metadata": {
        "colab_type": "code",
        "id": "dMnY1D_DfPU8",
        "colab": {}
      },
      "source": [
        "model = tf.keras.models.Sequential([\n",
        "        tf.keras.layers.Dense(150, activation='relu', input_shape=(10000, )),\n",
        "        tf.keras.layers.Dropout(0.2),\n",
        "        tf.keras.layers.Dense(100, activation='relu'),\n",
        "        tf.keras.layers.Dropout(0.2),\n",
        "        tf.keras.layers.Dense(50, activation= 'relu'),\n",
        "        tf.keras.layers.Dense(1, activation= 'sigmoid')\n",
        "])"
      ],
      "execution_count": 0,
      "outputs": []
    },
    {
      "cell_type": "code",
      "metadata": {
        "colab_type": "code",
        "id": "zTQeCDIDwFAN",
        "outputId": "6a57fec1-6411-4afb-e851-529eadc65c57",
        "colab": {
          "base_uri": "https://localhost:8080/",
          "height": 357
        }
      },
      "source": [
        "model.summary()"
      ],
      "execution_count": 0,
      "outputs": [
        {
          "output_type": "stream",
          "text": [
            "Model: \"sequential\"\n",
            "_________________________________________________________________\n",
            "Layer (type)                 Output Shape              Param #   \n",
            "=================================================================\n",
            "dense (Dense)                (None, 150)               1500150   \n",
            "_________________________________________________________________\n",
            "dropout (Dropout)            (None, 150)               0         \n",
            "_________________________________________________________________\n",
            "dense_1 (Dense)              (None, 100)               15100     \n",
            "_________________________________________________________________\n",
            "dropout_1 (Dropout)          (None, 100)               0         \n",
            "_________________________________________________________________\n",
            "dense_2 (Dense)              (None, 50)                5050      \n",
            "_________________________________________________________________\n",
            "dense_3 (Dense)              (None, 1)                 51        \n",
            "=================================================================\n",
            "Total params: 1,520,351\n",
            "Trainable params: 1,520,351\n",
            "Non-trainable params: 0\n",
            "_________________________________________________________________\n"
          ],
          "name": "stdout"
        }
      ]
    },
    {
      "cell_type": "code",
      "metadata": {
        "colab_type": "code",
        "id": "e5fRhtMKfSQl",
        "colab": {}
      },
      "source": [
        "model.compile(\n",
        "    optimizer = 'adam',\n",
        "    loss = 'binary_crossentropy',\n",
        "    metrics = [\"accuracy\"]\n",
        ")"
      ],
      "execution_count": 0,
      "outputs": []
    },
    {
      "cell_type": "code",
      "metadata": {
        "colab_type": "code",
        "id": "61SJDRtSfVJR",
        "outputId": "5a7a4a7f-f239-4fe1-be6a-8db1dfeac521",
        "colab": {
          "base_uri": "https://localhost:8080/",
          "height": 357
        }
      },
      "source": [
        "results = model.fit(train_x, train_y, epochs=10, batch_size= 300)"
      ],
      "execution_count": 0,
      "outputs": [
        {
          "output_type": "stream",
          "text": [
            "Epoch 1/10\n",
            "134/134 [==============================] - 5s 39ms/step - loss: 0.3292 - accuracy: 0.8606\n",
            "Epoch 2/10\n",
            "134/134 [==============================] - 5s 39ms/step - loss: 0.1819 - accuracy: 0.9296\n",
            "Epoch 3/10\n",
            "134/134 [==============================] - 5s 39ms/step - loss: 0.1041 - accuracy: 0.9626\n",
            "Epoch 4/10\n",
            "134/134 [==============================] - 5s 39ms/step - loss: 0.0439 - accuracy: 0.9858\n",
            "Epoch 5/10\n",
            "134/134 [==============================] - 5s 40ms/step - loss: 0.0235 - accuracy: 0.9921\n",
            "Epoch 6/10\n",
            "134/134 [==============================] - 5s 39ms/step - loss: 0.0201 - accuracy: 0.9936\n",
            "Epoch 7/10\n",
            "134/134 [==============================] - 5s 40ms/step - loss: 0.0139 - accuracy: 0.9955\n",
            "Epoch 8/10\n",
            "134/134 [==============================] - 5s 40ms/step - loss: 0.0128 - accuracy: 0.9957\n",
            "Epoch 9/10\n",
            "134/134 [==============================] - 5s 40ms/step - loss: 0.0129 - accuracy: 0.9955\n",
            "Epoch 10/10\n",
            "134/134 [==============================] - 5s 40ms/step - loss: 0.0127 - accuracy: 0.9958\n"
          ],
          "name": "stdout"
        }
      ]
    },
    {
      "cell_type": "code",
      "metadata": {
        "colab_type": "code",
        "id": "RYgw-TP1km8U",
        "outputId": "215da5e9-1fd9-4b53-f922-0b901f5fdc6d",
        "colab": {
          "base_uri": "https://localhost:8080/",
          "height": 34
        }
      },
      "source": [
        "print(np.mean(results.history[\"accuracy\"]))"
      ],
      "execution_count": 0,
      "outputs": [
        {
          "output_type": "stream",
          "text": [
            "0.9706750094890595\n"
          ],
          "name": "stdout"
        }
      ]
    },
    {
      "cell_type": "code",
      "metadata": {
        "id": "xf5RW4hW7DKY",
        "colab_type": "code",
        "outputId": "9c7cef5d-3a43-4438-ac04-bae3557ab3f8",
        "colab": {
          "base_uri": "https://localhost:8080/",
          "height": 51
        }
      },
      "source": [
        "test_acc = model.evaluate(test_x, test_y, verbose=1)\n",
        "print(\"Accuracy: %.2f%%\" % (test_acc[1]*100))"
      ],
      "execution_count": 0,
      "outputs": [
        {
          "output_type": "stream",
          "text": [
            "313/313 [==============================] - 1s 3ms/step - loss: 0.6994 - accuracy: 0.8733\n",
            "Accuracy: 87.33%\n"
          ],
          "name": "stdout"
        }
      ]
    }
  ]
}